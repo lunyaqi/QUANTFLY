{
 "cells": [
  {
   "cell_type": "code",
   "execution_count": 1,
   "id": "initial_id",
   "metadata": {
    "collapsed": true,
    "ExecuteTime": {
     "end_time": "2024-03-01T01:48:14.449508300Z",
     "start_time": "2024-03-01T01:48:14.446462900Z"
    }
   },
   "outputs": [
    {
     "ename": "SyntaxError",
     "evalue": "invalid syntax (3819790662.py, line 1)",
     "output_type": "error",
     "traceback": [
      "\u001B[1;36m  Cell \u001B[1;32mIn[1], line 1\u001B[1;36m\u001B[0m\n\u001B[1;33m    python -m mootdx bestip -vv\u001B[0m\n\u001B[1;37m              ^\u001B[0m\n\u001B[1;31mSyntaxError\u001B[0m\u001B[1;31m:\u001B[0m invalid syntax\n"
     ]
    }
   ],
   "source": []
  },
  {
   "cell_type": "code",
   "outputs": [],
   "source": [
    "from mootdx.reader import Reader\n",
    "\n",
    "# market: 参数 `std` 为标准市场(就是股票), `ext` 为扩展市场(期货，黄金等)\n",
    "# tdxdir: 是通达信的数据目录, 根据自己的情况修改\n",
    "\n",
    "reader = Reader.factory(market='std', tdxdir='E:/new_tdx')\n",
    "\n",
    "# 读取日线数据\n",
    "reader.daily(symbol='600036')\n",
    "\n",
    "# 读取分钟数据\n",
    "reader.minute(symbol='600036')\n",
    "\n",
    "# 读取时间线数据\n",
    "reader.fzline(symbol='600036')"
   ],
   "metadata": {
    "collapsed": false,
    "ExecuteTime": {
     "end_time": "2024-03-01T01:50:13.292240600Z",
     "start_time": "2024-03-01T01:50:13.286869200Z"
    }
   },
   "id": "50469b69620626f8",
   "execution_count": 3
  },
  {
   "cell_type": "code",
   "outputs": [
    {
     "data": {
      "text/plain": "Empty DataFrame\nColumns: []\nIndex: []",
      "text/html": "<div>\n<style scoped>\n    .dataframe tbody tr th:only-of-type {\n        vertical-align: middle;\n    }\n\n    .dataframe tbody tr th {\n        vertical-align: top;\n    }\n\n    .dataframe thead th {\n        text-align: right;\n    }\n</style>\n<table border=\"1\" class=\"dataframe\">\n  <thead>\n    <tr style=\"text-align: right;\">\n      <th></th>\n    </tr>\n  </thead>\n  <tbody>\n  </tbody>\n</table>\n</div>"
     },
     "execution_count": 5,
     "metadata": {},
     "output_type": "execute_result"
    }
   ],
   "source": [
    "reader.daily(symbol='600519')"
   ],
   "metadata": {
    "collapsed": false,
    "ExecuteTime": {
     "end_time": "2024-03-01T01:50:47.729770600Z",
     "start_time": "2024-03-01T01:50:47.719899500Z"
    }
   },
   "id": "1b63dc66a95d521",
   "execution_count": 5
  },
  {
   "cell_type": "code",
   "outputs": [],
   "source": [
    "reader.fzline(symbol='600036')"
   ],
   "metadata": {
    "collapsed": false,
    "ExecuteTime": {
     "end_time": "2024-03-01T01:51:04.659387300Z",
     "start_time": "2024-03-01T01:51:04.657172Z"
    }
   },
   "id": "aea6a790c24706a3",
   "execution_count": 7
  },
  {
   "cell_type": "code",
   "outputs": [
    {
     "name": "stderr",
     "output_type": "stream",
     "text": [
      "2024-03-01 09:51:53,604 - mootdx - INFO - [-] 选择最快的服务器...\n"
     ]
    },
    {
     "data": {
      "text/plain": "    price    vol  volume\n0   10.56  86975   86975\n1   10.55  12854   12854\n2   10.57  19218   19218\n3   10.55  17230   17230\n4   10.54  17797   17797\n5   10.55  18179   18179\n6   10.55   8999    8999\n7   10.56  16896   16896\n8   10.56   9627    9627\n9   10.55  16607   16607\n10  10.55  12631   12631\n11  10.52  29992   29992\n12  10.52  16851   16851\n13  10.49  23435   23435\n14  10.53  11921   11921\n15  10.53  14955   14955\n16  10.53   8812    8812\n17  10.52  11499   11499\n18  10.51   7246    7246\n19  10.51  17130   17130\n20  10.50  23326   23326\n21  10.49  15743   15743\n22  10.49  15124   15124",
      "text/html": "<div>\n<style scoped>\n    .dataframe tbody tr th:only-of-type {\n        vertical-align: middle;\n    }\n\n    .dataframe tbody tr th {\n        vertical-align: top;\n    }\n\n    .dataframe thead th {\n        text-align: right;\n    }\n</style>\n<table border=\"1\" class=\"dataframe\">\n  <thead>\n    <tr style=\"text-align: right;\">\n      <th></th>\n      <th>price</th>\n      <th>vol</th>\n      <th>volume</th>\n    </tr>\n  </thead>\n  <tbody>\n    <tr>\n      <th>0</th>\n      <td>10.56</td>\n      <td>86975</td>\n      <td>86975</td>\n    </tr>\n    <tr>\n      <th>1</th>\n      <td>10.55</td>\n      <td>12854</td>\n      <td>12854</td>\n    </tr>\n    <tr>\n      <th>2</th>\n      <td>10.57</td>\n      <td>19218</td>\n      <td>19218</td>\n    </tr>\n    <tr>\n      <th>3</th>\n      <td>10.55</td>\n      <td>17230</td>\n      <td>17230</td>\n    </tr>\n    <tr>\n      <th>4</th>\n      <td>10.54</td>\n      <td>17797</td>\n      <td>17797</td>\n    </tr>\n    <tr>\n      <th>5</th>\n      <td>10.55</td>\n      <td>18179</td>\n      <td>18179</td>\n    </tr>\n    <tr>\n      <th>6</th>\n      <td>10.55</td>\n      <td>8999</td>\n      <td>8999</td>\n    </tr>\n    <tr>\n      <th>7</th>\n      <td>10.56</td>\n      <td>16896</td>\n      <td>16896</td>\n    </tr>\n    <tr>\n      <th>8</th>\n      <td>10.56</td>\n      <td>9627</td>\n      <td>9627</td>\n    </tr>\n    <tr>\n      <th>9</th>\n      <td>10.55</td>\n      <td>16607</td>\n      <td>16607</td>\n    </tr>\n    <tr>\n      <th>10</th>\n      <td>10.55</td>\n      <td>12631</td>\n      <td>12631</td>\n    </tr>\n    <tr>\n      <th>11</th>\n      <td>10.52</td>\n      <td>29992</td>\n      <td>29992</td>\n    </tr>\n    <tr>\n      <th>12</th>\n      <td>10.52</td>\n      <td>16851</td>\n      <td>16851</td>\n    </tr>\n    <tr>\n      <th>13</th>\n      <td>10.49</td>\n      <td>23435</td>\n      <td>23435</td>\n    </tr>\n    <tr>\n      <th>14</th>\n      <td>10.53</td>\n      <td>11921</td>\n      <td>11921</td>\n    </tr>\n    <tr>\n      <th>15</th>\n      <td>10.53</td>\n      <td>14955</td>\n      <td>14955</td>\n    </tr>\n    <tr>\n      <th>16</th>\n      <td>10.53</td>\n      <td>8812</td>\n      <td>8812</td>\n    </tr>\n    <tr>\n      <th>17</th>\n      <td>10.52</td>\n      <td>11499</td>\n      <td>11499</td>\n    </tr>\n    <tr>\n      <th>18</th>\n      <td>10.51</td>\n      <td>7246</td>\n      <td>7246</td>\n    </tr>\n    <tr>\n      <th>19</th>\n      <td>10.51</td>\n      <td>17130</td>\n      <td>17130</td>\n    </tr>\n    <tr>\n      <th>20</th>\n      <td>10.50</td>\n      <td>23326</td>\n      <td>23326</td>\n    </tr>\n    <tr>\n      <th>21</th>\n      <td>10.49</td>\n      <td>15743</td>\n      <td>15743</td>\n    </tr>\n    <tr>\n      <th>22</th>\n      <td>10.49</td>\n      <td>15124</td>\n      <td>15124</td>\n    </tr>\n  </tbody>\n</table>\n</div>"
     },
     "execution_count": 8,
     "metadata": {},
     "output_type": "execute_result"
    }
   ],
   "source": [
    "from mootdx.quotes import Quotes\n",
    "\n",
    "# 标准市场\n",
    "client = Quotes.factory(market='std', multithread=True, heartbeat=True, bestip=True, timeout=15)\n",
    "\n",
    "# k 线数据\n",
    "client.bars(symbol='600036', frequency=9, offset=10)\n",
    "\n",
    "# 指数\n",
    "client.index(symbol='000001', frequency=9)\n",
    "\n",
    "# 分钟\n",
    "client.minute(symbol='000001')\n"
   ],
   "metadata": {
    "collapsed": false,
    "ExecuteTime": {
     "end_time": "2024-03-01T01:52:46.234302900Z",
     "start_time": "2024-03-01T01:51:53.594094800Z"
    }
   },
   "id": "2017c320a45c04ab",
   "execution_count": 8
  },
  {
   "cell_type": "code",
   "outputs": [
    {
     "name": "stderr",
     "output_type": "stream",
     "text": [
      "2024-03-01 10:07:53,313 - mootdx - INFO - [-] 选择最快的服务器...\n"
     ]
    }
   ],
   "source": [
    "# 标准市场\n",
    "client = Quotes.factory(market='std', multithread=True, heartbeat=True, bestip=True, timeout=15)"
   ],
   "metadata": {
    "collapsed": false,
    "ExecuteTime": {
     "end_time": "2024-03-01T02:08:45.923971600Z",
     "start_time": "2024-03-01T02:07:53.307621800Z"
    }
   },
   "id": "5d1057c2b1e81ed6",
   "execution_count": 9
  },
  {
   "cell_type": "code",
   "outputs": [
    {
     "data": {
      "text/plain": "                      open  close   high    low        vol        amount  \\\ndatetime                                                                   \n2024-02-19 15:00:00  31.99  31.62  31.99  31.41   875490.0  2.770407e+09   \n2024-02-20 15:00:00  31.62  31.40  31.62  31.29   606404.0  1.907542e+09   \n2024-02-21 15:00:00  31.40  33.00  33.39  31.35  1528656.0  5.003152e+09   \n2024-02-22 15:00:00  32.81  32.80  32.95  32.39   752760.0  2.461009e+09   \n2024-02-23 15:00:00  32.81  32.95  33.40  32.62   639848.0  2.118316e+09   \n2024-02-26 15:00:00  32.86  32.25  33.06  32.08   666390.0  2.163023e+09   \n2024-02-27 15:00:00  32.24  32.18  32.40  31.99   543491.0  1.746109e+09   \n2024-02-28 15:00:00  32.29  32.02  32.29  31.60   683707.0  2.186678e+09   \n2024-02-29 15:00:00  31.89  32.04  32.20  31.85   498928.0  1.595634e+09   \n2024-03-01 15:00:00  31.92  31.93  32.08  31.75   415628.0  1.324978e+09   \n\n                     year  month  day  hour  minute          datetime  \\\ndatetime                                                                \n2024-02-19 15:00:00  2024      2   19    15       0  2024-02-19 15:00   \n2024-02-20 15:00:00  2024      2   20    15       0  2024-02-20 15:00   \n2024-02-21 15:00:00  2024      2   21    15       0  2024-02-21 15:00   \n2024-02-22 15:00:00  2024      2   22    15       0  2024-02-22 15:00   \n2024-02-23 15:00:00  2024      2   23    15       0  2024-02-23 15:00   \n2024-02-26 15:00:00  2024      2   26    15       0  2024-02-26 15:00   \n2024-02-27 15:00:00  2024      2   27    15       0  2024-02-27 15:00   \n2024-02-28 15:00:00  2024      2   28    15       0  2024-02-28 15:00   \n2024-02-29 15:00:00  2024      2   29    15       0  2024-02-29 15:00   \n2024-03-01 15:00:00  2024      3    1    15       0  2024-03-01 15:00   \n\n                        volume  \ndatetime                        \n2024-02-19 15:00:00   875490.0  \n2024-02-20 15:00:00   606404.0  \n2024-02-21 15:00:00  1528656.0  \n2024-02-22 15:00:00   752760.0  \n2024-02-23 15:00:00   639848.0  \n2024-02-26 15:00:00   666390.0  \n2024-02-27 15:00:00   543491.0  \n2024-02-28 15:00:00   683707.0  \n2024-02-29 15:00:00   498928.0  \n2024-03-01 15:00:00   415628.0  ",
      "text/html": "<div>\n<style scoped>\n    .dataframe tbody tr th:only-of-type {\n        vertical-align: middle;\n    }\n\n    .dataframe tbody tr th {\n        vertical-align: top;\n    }\n\n    .dataframe thead th {\n        text-align: right;\n    }\n</style>\n<table border=\"1\" class=\"dataframe\">\n  <thead>\n    <tr style=\"text-align: right;\">\n      <th></th>\n      <th>open</th>\n      <th>close</th>\n      <th>high</th>\n      <th>low</th>\n      <th>vol</th>\n      <th>amount</th>\n      <th>year</th>\n      <th>month</th>\n      <th>day</th>\n      <th>hour</th>\n      <th>minute</th>\n      <th>datetime</th>\n      <th>volume</th>\n    </tr>\n    <tr>\n      <th>datetime</th>\n      <th></th>\n      <th></th>\n      <th></th>\n      <th></th>\n      <th></th>\n      <th></th>\n      <th></th>\n      <th></th>\n      <th></th>\n      <th></th>\n      <th></th>\n      <th></th>\n      <th></th>\n    </tr>\n  </thead>\n  <tbody>\n    <tr>\n      <th>2024-02-19 15:00:00</th>\n      <td>31.99</td>\n      <td>31.62</td>\n      <td>31.99</td>\n      <td>31.41</td>\n      <td>875490.0</td>\n      <td>2.770407e+09</td>\n      <td>2024</td>\n      <td>2</td>\n      <td>19</td>\n      <td>15</td>\n      <td>0</td>\n      <td>2024-02-19 15:00</td>\n      <td>875490.0</td>\n    </tr>\n    <tr>\n      <th>2024-02-20 15:00:00</th>\n      <td>31.62</td>\n      <td>31.40</td>\n      <td>31.62</td>\n      <td>31.29</td>\n      <td>606404.0</td>\n      <td>1.907542e+09</td>\n      <td>2024</td>\n      <td>2</td>\n      <td>20</td>\n      <td>15</td>\n      <td>0</td>\n      <td>2024-02-20 15:00</td>\n      <td>606404.0</td>\n    </tr>\n    <tr>\n      <th>2024-02-21 15:00:00</th>\n      <td>31.40</td>\n      <td>33.00</td>\n      <td>33.39</td>\n      <td>31.35</td>\n      <td>1528656.0</td>\n      <td>5.003152e+09</td>\n      <td>2024</td>\n      <td>2</td>\n      <td>21</td>\n      <td>15</td>\n      <td>0</td>\n      <td>2024-02-21 15:00</td>\n      <td>1528656.0</td>\n    </tr>\n    <tr>\n      <th>2024-02-22 15:00:00</th>\n      <td>32.81</td>\n      <td>32.80</td>\n      <td>32.95</td>\n      <td>32.39</td>\n      <td>752760.0</td>\n      <td>2.461009e+09</td>\n      <td>2024</td>\n      <td>2</td>\n      <td>22</td>\n      <td>15</td>\n      <td>0</td>\n      <td>2024-02-22 15:00</td>\n      <td>752760.0</td>\n    </tr>\n    <tr>\n      <th>2024-02-23 15:00:00</th>\n      <td>32.81</td>\n      <td>32.95</td>\n      <td>33.40</td>\n      <td>32.62</td>\n      <td>639848.0</td>\n      <td>2.118316e+09</td>\n      <td>2024</td>\n      <td>2</td>\n      <td>23</td>\n      <td>15</td>\n      <td>0</td>\n      <td>2024-02-23 15:00</td>\n      <td>639848.0</td>\n    </tr>\n    <tr>\n      <th>2024-02-26 15:00:00</th>\n      <td>32.86</td>\n      <td>32.25</td>\n      <td>33.06</td>\n      <td>32.08</td>\n      <td>666390.0</td>\n      <td>2.163023e+09</td>\n      <td>2024</td>\n      <td>2</td>\n      <td>26</td>\n      <td>15</td>\n      <td>0</td>\n      <td>2024-02-26 15:00</td>\n      <td>666390.0</td>\n    </tr>\n    <tr>\n      <th>2024-02-27 15:00:00</th>\n      <td>32.24</td>\n      <td>32.18</td>\n      <td>32.40</td>\n      <td>31.99</td>\n      <td>543491.0</td>\n      <td>1.746109e+09</td>\n      <td>2024</td>\n      <td>2</td>\n      <td>27</td>\n      <td>15</td>\n      <td>0</td>\n      <td>2024-02-27 15:00</td>\n      <td>543491.0</td>\n    </tr>\n    <tr>\n      <th>2024-02-28 15:00:00</th>\n      <td>32.29</td>\n      <td>32.02</td>\n      <td>32.29</td>\n      <td>31.60</td>\n      <td>683707.0</td>\n      <td>2.186678e+09</td>\n      <td>2024</td>\n      <td>2</td>\n      <td>28</td>\n      <td>15</td>\n      <td>0</td>\n      <td>2024-02-28 15:00</td>\n      <td>683707.0</td>\n    </tr>\n    <tr>\n      <th>2024-02-29 15:00:00</th>\n      <td>31.89</td>\n      <td>32.04</td>\n      <td>32.20</td>\n      <td>31.85</td>\n      <td>498928.0</td>\n      <td>1.595634e+09</td>\n      <td>2024</td>\n      <td>2</td>\n      <td>29</td>\n      <td>15</td>\n      <td>0</td>\n      <td>2024-02-29 15:00</td>\n      <td>498928.0</td>\n    </tr>\n    <tr>\n      <th>2024-03-01 15:00:00</th>\n      <td>31.92</td>\n      <td>31.93</td>\n      <td>32.08</td>\n      <td>31.75</td>\n      <td>415628.0</td>\n      <td>1.324978e+09</td>\n      <td>2024</td>\n      <td>3</td>\n      <td>1</td>\n      <td>15</td>\n      <td>0</td>\n      <td>2024-03-01 15:00</td>\n      <td>415628.0</td>\n    </tr>\n  </tbody>\n</table>\n</div>"
     },
     "execution_count": 12,
     "metadata": {},
     "output_type": "execute_result"
    }
   ],
   "source": [
    "client.bars(symbol='600036', frequency=9, offset=10)\n"
   ],
   "metadata": {
    "collapsed": false,
    "ExecuteTime": {
     "end_time": "2024-03-01T06:54:05.710160900Z",
     "start_time": "2024-03-01T06:54:05.657436200Z"
    }
   },
   "id": "4ff115efddb26160",
   "execution_count": 12
  },
  {
   "cell_type": "code",
   "outputs": [
    {
     "name": "stdout",
     "output_type": "stream",
     "text": [
      "~~~\n"
     ]
    },
    {
     "name": "stderr",
     "output_type": "stream",
     "text": [
      "C:\\Users\\lunyaqi\\AppData\\Local\\Programs\\Python\\Python311\\Lib\\site-packages\\mootdx\\tools\\reversion.py:18: FutureWarning: Series.fillna with 'method' is deprecated and will raise in a future version. Use obj.ffill() or obj.bfill() instead.\n",
      "  data.factor = data.factor.fillna(method=('ffill', 'bfill')[method == 'qfq'], axis=0)\n"
     ]
    },
    {
     "data": {
      "text/plain": "                          open      close       high        low       vol  \\\n2020-11-13 15:00:00  47.571162  46.888427  47.571162  46.040515  544862.0   \n2020-11-16 15:00:00  47.295865  47.350925  47.461043  46.965510  389432.0   \n2020-11-17 15:00:00  47.350925  48.275919  48.452109  47.130688  472856.0   \n2020-11-18 15:00:00  48.011635  49.277997  49.553293  47.802410  628202.0   \n2020-11-19 15:00:00  49.035737  49.410139  49.553293  48.441097  477341.0   \n...                        ...        ...        ...        ...       ...   \n2024-02-26 15:00:00  32.860000  32.250000  33.060000  32.080000  666390.0   \n2024-02-27 15:00:00  32.240000  32.180000  32.400000  31.990000  543491.0   \n2024-02-28 15:00:00  32.290000  32.020000  32.290000  31.600000  683707.0   \n2024-02-29 15:00:00  31.890000  32.040000  32.200000  31.850000  498928.0   \n2024-03-01 15:00:00  31.920000  31.950000  32.080000  31.750000  417489.0   \n\n                           amount    year  month   day  hour  minute  \\\n2020-11-13 15:00:00  2.309703e+09  2020.0   11.0  13.0  15.0     0.0   \n2020-11-16 15:00:00  1.669942e+09  2020.0   11.0  16.0  15.0     0.0   \n2020-11-17 15:00:00  2.065231e+09  2020.0   11.0  17.0  15.0     0.0   \n2020-11-18 15:00:00  2.797753e+09  2020.0   11.0  18.0  15.0     0.0   \n2020-11-19 15:00:00  2.128954e+09  2020.0   11.0  19.0  15.0     0.0   \n...                           ...     ...    ...   ...   ...     ...   \n2024-02-26 15:00:00  2.163023e+09  2024.0    2.0  26.0  15.0     0.0   \n2024-02-27 15:00:00  1.746109e+09  2024.0    2.0  27.0  15.0     0.0   \n2024-02-28 15:00:00  2.186678e+09  2024.0    2.0  28.0  15.0     0.0   \n2024-02-29 15:00:00  1.595634e+09  2024.0    2.0  29.0  15.0     0.0   \n2024-03-01 15:00:00  1.330922e+09  2024.0    3.0   1.0  15.0     0.0   \n\n                             datetime    volume    factor  \n2020-11-13 15:00:00  2020-11-13 15:00  544862.0  1.101184  \n2020-11-16 15:00:00  2020-11-16 15:00  389432.0  1.101184  \n2020-11-17 15:00:00  2020-11-17 15:00  472856.0  1.101184  \n2020-11-18 15:00:00  2020-11-18 15:00  628202.0  1.101184  \n2020-11-19 15:00:00  2020-11-19 15:00  477341.0  1.101184  \n...                               ...       ...       ...  \n2024-02-26 15:00:00  2024-02-26 15:00  666390.0  1.000000  \n2024-02-27 15:00:00  2024-02-27 15:00  543491.0  1.000000  \n2024-02-28 15:00:00  2024-02-28 15:00  683707.0  1.000000  \n2024-02-29 15:00:00  2024-02-29 15:00  498928.0  1.000000  \n2024-03-01 15:00:00  2024-03-01 15:00  417489.0  1.000000  \n\n[803 rows x 14 columns]",
      "text/html": "<div>\n<style scoped>\n    .dataframe tbody tr th:only-of-type {\n        vertical-align: middle;\n    }\n\n    .dataframe tbody tr th {\n        vertical-align: top;\n    }\n\n    .dataframe thead th {\n        text-align: right;\n    }\n</style>\n<table border=\"1\" class=\"dataframe\">\n  <thead>\n    <tr style=\"text-align: right;\">\n      <th></th>\n      <th>open</th>\n      <th>close</th>\n      <th>high</th>\n      <th>low</th>\n      <th>vol</th>\n      <th>amount</th>\n      <th>year</th>\n      <th>month</th>\n      <th>day</th>\n      <th>hour</th>\n      <th>minute</th>\n      <th>datetime</th>\n      <th>volume</th>\n      <th>factor</th>\n    </tr>\n  </thead>\n  <tbody>\n    <tr>\n      <th>2020-11-13 15:00:00</th>\n      <td>47.571162</td>\n      <td>46.888427</td>\n      <td>47.571162</td>\n      <td>46.040515</td>\n      <td>544862.0</td>\n      <td>2.309703e+09</td>\n      <td>2020.0</td>\n      <td>11.0</td>\n      <td>13.0</td>\n      <td>15.0</td>\n      <td>0.0</td>\n      <td>2020-11-13 15:00</td>\n      <td>544862.0</td>\n      <td>1.101184</td>\n    </tr>\n    <tr>\n      <th>2020-11-16 15:00:00</th>\n      <td>47.295865</td>\n      <td>47.350925</td>\n      <td>47.461043</td>\n      <td>46.965510</td>\n      <td>389432.0</td>\n      <td>1.669942e+09</td>\n      <td>2020.0</td>\n      <td>11.0</td>\n      <td>16.0</td>\n      <td>15.0</td>\n      <td>0.0</td>\n      <td>2020-11-16 15:00</td>\n      <td>389432.0</td>\n      <td>1.101184</td>\n    </tr>\n    <tr>\n      <th>2020-11-17 15:00:00</th>\n      <td>47.350925</td>\n      <td>48.275919</td>\n      <td>48.452109</td>\n      <td>47.130688</td>\n      <td>472856.0</td>\n      <td>2.065231e+09</td>\n      <td>2020.0</td>\n      <td>11.0</td>\n      <td>17.0</td>\n      <td>15.0</td>\n      <td>0.0</td>\n      <td>2020-11-17 15:00</td>\n      <td>472856.0</td>\n      <td>1.101184</td>\n    </tr>\n    <tr>\n      <th>2020-11-18 15:00:00</th>\n      <td>48.011635</td>\n      <td>49.277997</td>\n      <td>49.553293</td>\n      <td>47.802410</td>\n      <td>628202.0</td>\n      <td>2.797753e+09</td>\n      <td>2020.0</td>\n      <td>11.0</td>\n      <td>18.0</td>\n      <td>15.0</td>\n      <td>0.0</td>\n      <td>2020-11-18 15:00</td>\n      <td>628202.0</td>\n      <td>1.101184</td>\n    </tr>\n    <tr>\n      <th>2020-11-19 15:00:00</th>\n      <td>49.035737</td>\n      <td>49.410139</td>\n      <td>49.553293</td>\n      <td>48.441097</td>\n      <td>477341.0</td>\n      <td>2.128954e+09</td>\n      <td>2020.0</td>\n      <td>11.0</td>\n      <td>19.0</td>\n      <td>15.0</td>\n      <td>0.0</td>\n      <td>2020-11-19 15:00</td>\n      <td>477341.0</td>\n      <td>1.101184</td>\n    </tr>\n    <tr>\n      <th>...</th>\n      <td>...</td>\n      <td>...</td>\n      <td>...</td>\n      <td>...</td>\n      <td>...</td>\n      <td>...</td>\n      <td>...</td>\n      <td>...</td>\n      <td>...</td>\n      <td>...</td>\n      <td>...</td>\n      <td>...</td>\n      <td>...</td>\n      <td>...</td>\n    </tr>\n    <tr>\n      <th>2024-02-26 15:00:00</th>\n      <td>32.860000</td>\n      <td>32.250000</td>\n      <td>33.060000</td>\n      <td>32.080000</td>\n      <td>666390.0</td>\n      <td>2.163023e+09</td>\n      <td>2024.0</td>\n      <td>2.0</td>\n      <td>26.0</td>\n      <td>15.0</td>\n      <td>0.0</td>\n      <td>2024-02-26 15:00</td>\n      <td>666390.0</td>\n      <td>1.000000</td>\n    </tr>\n    <tr>\n      <th>2024-02-27 15:00:00</th>\n      <td>32.240000</td>\n      <td>32.180000</td>\n      <td>32.400000</td>\n      <td>31.990000</td>\n      <td>543491.0</td>\n      <td>1.746109e+09</td>\n      <td>2024.0</td>\n      <td>2.0</td>\n      <td>27.0</td>\n      <td>15.0</td>\n      <td>0.0</td>\n      <td>2024-02-27 15:00</td>\n      <td>543491.0</td>\n      <td>1.000000</td>\n    </tr>\n    <tr>\n      <th>2024-02-28 15:00:00</th>\n      <td>32.290000</td>\n      <td>32.020000</td>\n      <td>32.290000</td>\n      <td>31.600000</td>\n      <td>683707.0</td>\n      <td>2.186678e+09</td>\n      <td>2024.0</td>\n      <td>2.0</td>\n      <td>28.0</td>\n      <td>15.0</td>\n      <td>0.0</td>\n      <td>2024-02-28 15:00</td>\n      <td>683707.0</td>\n      <td>1.000000</td>\n    </tr>\n    <tr>\n      <th>2024-02-29 15:00:00</th>\n      <td>31.890000</td>\n      <td>32.040000</td>\n      <td>32.200000</td>\n      <td>31.850000</td>\n      <td>498928.0</td>\n      <td>1.595634e+09</td>\n      <td>2024.0</td>\n      <td>2.0</td>\n      <td>29.0</td>\n      <td>15.0</td>\n      <td>0.0</td>\n      <td>2024-02-29 15:00</td>\n      <td>498928.0</td>\n      <td>1.000000</td>\n    </tr>\n    <tr>\n      <th>2024-03-01 15:00:00</th>\n      <td>31.920000</td>\n      <td>31.950000</td>\n      <td>32.080000</td>\n      <td>31.750000</td>\n      <td>417489.0</td>\n      <td>1.330922e+09</td>\n      <td>2024.0</td>\n      <td>3.0</td>\n      <td>1.0</td>\n      <td>15.0</td>\n      <td>0.0</td>\n      <td>2024-03-01 15:00</td>\n      <td>417489.0</td>\n      <td>1.000000</td>\n    </tr>\n  </tbody>\n</table>\n<p>803 rows × 14 columns</p>\n</div>"
     },
     "execution_count": 13,
     "metadata": {},
     "output_type": "execute_result"
    }
   ],
   "source": [
    "client.bars(symbol='600036', adjust='qfq')\n"
   ],
   "metadata": {
    "collapsed": false,
    "ExecuteTime": {
     "end_time": "2024-03-01T06:55:14.889755500Z",
     "start_time": "2024-03-01T06:55:13.838096800Z"
    }
   },
   "id": "f3ba5c57a9f794c",
   "execution_count": 13
  },
  {
   "cell_type": "code",
   "outputs": [
    {
     "name": "stderr",
     "output_type": "stream",
     "text": [
      "C:\\Users\\lunyaqi\\AppData\\Local\\Programs\\Python\\Python311\\Lib\\site-packages\\mootdx\\tools\\reversion.py:18: FutureWarning: Series.fillna with 'method' is deprecated and will raise in a future version. Use obj.ffill() or obj.bfill() instead.\n",
      "  data.factor = data.factor.fillna(method=('ffill', 'bfill')[method == 'qfq'], axis=0)\n"
     ]
    },
    {
     "data": {
      "text/plain": "                      open  close   high    low       vol        amount  \\\n2020-11-13 15:00:00  43.20  42.58  43.20  41.81  544862.0  2.309703e+09   \n2020-11-16 15:00:00  42.95  43.00  43.10  42.65  389432.0  1.669942e+09   \n2020-11-17 15:00:00  43.00  43.84  44.00  42.80  472856.0  2.065231e+09   \n2020-11-18 15:00:00  43.60  44.75  45.00  43.41  628202.0  2.797753e+09   \n2020-11-19 15:00:00  44.53  44.87  45.00  43.99  477341.0  2.128954e+09   \n...                    ...    ...    ...    ...       ...           ...   \n2024-02-26 15:00:00  32.86  32.25  33.06  32.08  666390.0  2.163023e+09   \n2024-02-27 15:00:00  32.24  32.18  32.40  31.99  543491.0  1.746109e+09   \n2024-02-28 15:00:00  32.29  32.02  32.29  31.60  683707.0  2.186678e+09   \n2024-02-29 15:00:00  31.89  32.04  32.20  31.85  498928.0  1.595634e+09   \n2024-03-01 15:00:00  31.92  31.93  32.08  31.75  420011.0  1.338976e+09   \n\n                       year  month   day  hour  minute          datetime  \\\n2020-11-13 15:00:00  2020.0   11.0  13.0  15.0     0.0  2020-11-13 15:00   \n2020-11-16 15:00:00  2020.0   11.0  16.0  15.0     0.0  2020-11-16 15:00   \n2020-11-17 15:00:00  2020.0   11.0  17.0  15.0     0.0  2020-11-17 15:00   \n2020-11-18 15:00:00  2020.0   11.0  18.0  15.0     0.0  2020-11-18 15:00   \n2020-11-19 15:00:00  2020.0   11.0  19.0  15.0     0.0  2020-11-19 15:00   \n...                     ...    ...   ...   ...     ...               ...   \n2024-02-26 15:00:00  2024.0    2.0  26.0  15.0     0.0  2024-02-26 15:00   \n2024-02-27 15:00:00  2024.0    2.0  27.0  15.0     0.0  2024-02-27 15:00   \n2024-02-28 15:00:00  2024.0    2.0  28.0  15.0     0.0  2024-02-28 15:00   \n2024-02-29 15:00:00  2024.0    2.0  29.0  15.0     0.0  2024-02-29 15:00   \n2024-03-01 15:00:00  2024.0    3.0   1.0  15.0     0.0  2024-03-01 15:00   \n\n                       volume  factor  \n2020-11-13 15:00:00  544862.0     1.0  \n2020-11-16 15:00:00  389432.0     1.0  \n2020-11-17 15:00:00  472856.0     1.0  \n2020-11-18 15:00:00  628202.0     1.0  \n2020-11-19 15:00:00  477341.0     1.0  \n...                       ...     ...  \n2024-02-26 15:00:00  666390.0     1.0  \n2024-02-27 15:00:00  543491.0     1.0  \n2024-02-28 15:00:00  683707.0     1.0  \n2024-02-29 15:00:00  498928.0     1.0  \n2024-03-01 15:00:00  420011.0     1.0  \n\n[803 rows x 14 columns]",
      "text/html": "<div>\n<style scoped>\n    .dataframe tbody tr th:only-of-type {\n        vertical-align: middle;\n    }\n\n    .dataframe tbody tr th {\n        vertical-align: top;\n    }\n\n    .dataframe thead th {\n        text-align: right;\n    }\n</style>\n<table border=\"1\" class=\"dataframe\">\n  <thead>\n    <tr style=\"text-align: right;\">\n      <th></th>\n      <th>open</th>\n      <th>close</th>\n      <th>high</th>\n      <th>low</th>\n      <th>vol</th>\n      <th>amount</th>\n      <th>year</th>\n      <th>month</th>\n      <th>day</th>\n      <th>hour</th>\n      <th>minute</th>\n      <th>datetime</th>\n      <th>volume</th>\n      <th>factor</th>\n    </tr>\n  </thead>\n  <tbody>\n    <tr>\n      <th>2020-11-13 15:00:00</th>\n      <td>43.20</td>\n      <td>42.58</td>\n      <td>43.20</td>\n      <td>41.81</td>\n      <td>544862.0</td>\n      <td>2.309703e+09</td>\n      <td>2020.0</td>\n      <td>11.0</td>\n      <td>13.0</td>\n      <td>15.0</td>\n      <td>0.0</td>\n      <td>2020-11-13 15:00</td>\n      <td>544862.0</td>\n      <td>1.0</td>\n    </tr>\n    <tr>\n      <th>2020-11-16 15:00:00</th>\n      <td>42.95</td>\n      <td>43.00</td>\n      <td>43.10</td>\n      <td>42.65</td>\n      <td>389432.0</td>\n      <td>1.669942e+09</td>\n      <td>2020.0</td>\n      <td>11.0</td>\n      <td>16.0</td>\n      <td>15.0</td>\n      <td>0.0</td>\n      <td>2020-11-16 15:00</td>\n      <td>389432.0</td>\n      <td>1.0</td>\n    </tr>\n    <tr>\n      <th>2020-11-17 15:00:00</th>\n      <td>43.00</td>\n      <td>43.84</td>\n      <td>44.00</td>\n      <td>42.80</td>\n      <td>472856.0</td>\n      <td>2.065231e+09</td>\n      <td>2020.0</td>\n      <td>11.0</td>\n      <td>17.0</td>\n      <td>15.0</td>\n      <td>0.0</td>\n      <td>2020-11-17 15:00</td>\n      <td>472856.0</td>\n      <td>1.0</td>\n    </tr>\n    <tr>\n      <th>2020-11-18 15:00:00</th>\n      <td>43.60</td>\n      <td>44.75</td>\n      <td>45.00</td>\n      <td>43.41</td>\n      <td>628202.0</td>\n      <td>2.797753e+09</td>\n      <td>2020.0</td>\n      <td>11.0</td>\n      <td>18.0</td>\n      <td>15.0</td>\n      <td>0.0</td>\n      <td>2020-11-18 15:00</td>\n      <td>628202.0</td>\n      <td>1.0</td>\n    </tr>\n    <tr>\n      <th>2020-11-19 15:00:00</th>\n      <td>44.53</td>\n      <td>44.87</td>\n      <td>45.00</td>\n      <td>43.99</td>\n      <td>477341.0</td>\n      <td>2.128954e+09</td>\n      <td>2020.0</td>\n      <td>11.0</td>\n      <td>19.0</td>\n      <td>15.0</td>\n      <td>0.0</td>\n      <td>2020-11-19 15:00</td>\n      <td>477341.0</td>\n      <td>1.0</td>\n    </tr>\n    <tr>\n      <th>...</th>\n      <td>...</td>\n      <td>...</td>\n      <td>...</td>\n      <td>...</td>\n      <td>...</td>\n      <td>...</td>\n      <td>...</td>\n      <td>...</td>\n      <td>...</td>\n      <td>...</td>\n      <td>...</td>\n      <td>...</td>\n      <td>...</td>\n      <td>...</td>\n    </tr>\n    <tr>\n      <th>2024-02-26 15:00:00</th>\n      <td>32.86</td>\n      <td>32.25</td>\n      <td>33.06</td>\n      <td>32.08</td>\n      <td>666390.0</td>\n      <td>2.163023e+09</td>\n      <td>2024.0</td>\n      <td>2.0</td>\n      <td>26.0</td>\n      <td>15.0</td>\n      <td>0.0</td>\n      <td>2024-02-26 15:00</td>\n      <td>666390.0</td>\n      <td>1.0</td>\n    </tr>\n    <tr>\n      <th>2024-02-27 15:00:00</th>\n      <td>32.24</td>\n      <td>32.18</td>\n      <td>32.40</td>\n      <td>31.99</td>\n      <td>543491.0</td>\n      <td>1.746109e+09</td>\n      <td>2024.0</td>\n      <td>2.0</td>\n      <td>27.0</td>\n      <td>15.0</td>\n      <td>0.0</td>\n      <td>2024-02-27 15:00</td>\n      <td>543491.0</td>\n      <td>1.0</td>\n    </tr>\n    <tr>\n      <th>2024-02-28 15:00:00</th>\n      <td>32.29</td>\n      <td>32.02</td>\n      <td>32.29</td>\n      <td>31.60</td>\n      <td>683707.0</td>\n      <td>2.186678e+09</td>\n      <td>2024.0</td>\n      <td>2.0</td>\n      <td>28.0</td>\n      <td>15.0</td>\n      <td>0.0</td>\n      <td>2024-02-28 15:00</td>\n      <td>683707.0</td>\n      <td>1.0</td>\n    </tr>\n    <tr>\n      <th>2024-02-29 15:00:00</th>\n      <td>31.89</td>\n      <td>32.04</td>\n      <td>32.20</td>\n      <td>31.85</td>\n      <td>498928.0</td>\n      <td>1.595634e+09</td>\n      <td>2024.0</td>\n      <td>2.0</td>\n      <td>29.0</td>\n      <td>15.0</td>\n      <td>0.0</td>\n      <td>2024-02-29 15:00</td>\n      <td>498928.0</td>\n      <td>1.0</td>\n    </tr>\n    <tr>\n      <th>2024-03-01 15:00:00</th>\n      <td>31.92</td>\n      <td>31.93</td>\n      <td>32.08</td>\n      <td>31.75</td>\n      <td>420011.0</td>\n      <td>1.338976e+09</td>\n      <td>2024.0</td>\n      <td>3.0</td>\n      <td>1.0</td>\n      <td>15.0</td>\n      <td>0.0</td>\n      <td>2024-03-01 15:00</td>\n      <td>420011.0</td>\n      <td>1.0</td>\n    </tr>\n  </tbody>\n</table>\n<p>803 rows × 14 columns</p>\n</div>"
     },
     "execution_count": 14,
     "metadata": {},
     "output_type": "execute_result"
    }
   ],
   "source": [
    "client.bars(symbol='600036', adjust='hfq')\n"
   ],
   "metadata": {
    "collapsed": false,
    "ExecuteTime": {
     "end_time": "2024-03-01T06:56:14.078236600Z",
     "start_time": "2024-03-01T06:56:13.966998400Z"
    }
   },
   "id": "f1cfa69aedc61273",
   "execution_count": 14
  },
  {
   "cell_type": "code",
   "outputs": [
    {
     "data": {
      "text/plain": "23080"
     },
     "execution_count": 16,
     "metadata": {},
     "output_type": "execute_result"
    }
   ],
   "source": [
    "from mootdx import consts\n",
    "\n",
    "client.stock_count(market=consts.MARKET_SH)"
   ],
   "metadata": {
    "collapsed": false,
    "ExecuteTime": {
     "end_time": "2024-03-01T06:57:34.617806800Z",
     "start_time": "2024-03-01T06:57:34.573162700Z"
    }
   },
   "id": "d40fb4cda5784602",
   "execution_count": 16
  },
  {
   "cell_type": "code",
   "outputs": [
    {
     "data": {
      "text/plain": "18114"
     },
     "execution_count": 17,
     "metadata": {},
     "output_type": "execute_result"
    }
   ],
   "source": [
    "client.stock_count(market=consts.MARKET_SZ)\n"
   ],
   "metadata": {
    "collapsed": false,
    "ExecuteTime": {
     "end_time": "2024-03-01T06:57:52.157297500Z",
     "start_time": "2024-03-01T06:57:52.109090300Z"
    }
   },
   "id": "73cd2f22bd550db8",
   "execution_count": 17
  },
  {
   "cell_type": "code",
   "outputs": [
    {
     "name": "stderr",
     "output_type": "stream",
     "text": [
      "100%|##########| 24/24 [00:01<00:00, 20.01it/s]\n"
     ]
    }
   ],
   "source": [
    "symbol = client.stocks(market=consts.MARKET_SH)"
   ],
   "metadata": {
    "collapsed": false,
    "ExecuteTime": {
     "end_time": "2024-03-01T06:58:02.481851500Z",
     "start_time": "2024-03-01T06:58:01.222740700Z"
    }
   },
   "id": "70780912159f3138",
   "execution_count": 18
  },
  {
   "cell_type": "code",
   "outputs": [
    {
     "data": {
      "text/plain": "         code  volunit  decimal_point    name     pre_close\n0      999999      100              2    上证指数  3.015171e+03\n1      999998      100              2    Ａ股指数  3.160784e+03\n2      999997      100              2    Ｂ股指数  2.613498e+02\n3      000001      100              2    上证指数  3.015171e+03\n4      000002      100              2    Ａ股指数  3.160784e+03\n...       ...      ...            ...     ...           ...\n23075  562890      100              3  A50中证\u0000  5.877472e-39\n23076  563080      100              3  中证A50E  5.877472e-39\n23077  563280      100              3  A50增强\u0000  5.877472e-39\n23078  563350      100              3  中证A50\u0000  5.877472e-39\n23079  588450      100              3   科创50增  5.877472e-39\n\n[23080 rows x 5 columns]",
      "text/html": "<div>\n<style scoped>\n    .dataframe tbody tr th:only-of-type {\n        vertical-align: middle;\n    }\n\n    .dataframe tbody tr th {\n        vertical-align: top;\n    }\n\n    .dataframe thead th {\n        text-align: right;\n    }\n</style>\n<table border=\"1\" class=\"dataframe\">\n  <thead>\n    <tr style=\"text-align: right;\">\n      <th></th>\n      <th>code</th>\n      <th>volunit</th>\n      <th>decimal_point</th>\n      <th>name</th>\n      <th>pre_close</th>\n    </tr>\n  </thead>\n  <tbody>\n    <tr>\n      <th>0</th>\n      <td>999999</td>\n      <td>100</td>\n      <td>2</td>\n      <td>上证指数</td>\n      <td>3.015171e+03</td>\n    </tr>\n    <tr>\n      <th>1</th>\n      <td>999998</td>\n      <td>100</td>\n      <td>2</td>\n      <td>Ａ股指数</td>\n      <td>3.160784e+03</td>\n    </tr>\n    <tr>\n      <th>2</th>\n      <td>999997</td>\n      <td>100</td>\n      <td>2</td>\n      <td>Ｂ股指数</td>\n      <td>2.613498e+02</td>\n    </tr>\n    <tr>\n      <th>3</th>\n      <td>000001</td>\n      <td>100</td>\n      <td>2</td>\n      <td>上证指数</td>\n      <td>3.015171e+03</td>\n    </tr>\n    <tr>\n      <th>4</th>\n      <td>000002</td>\n      <td>100</td>\n      <td>2</td>\n      <td>Ａ股指数</td>\n      <td>3.160784e+03</td>\n    </tr>\n    <tr>\n      <th>...</th>\n      <td>...</td>\n      <td>...</td>\n      <td>...</td>\n      <td>...</td>\n      <td>...</td>\n    </tr>\n    <tr>\n      <th>23075</th>\n      <td>562890</td>\n      <td>100</td>\n      <td>3</td>\n      <td>A50中证\u0000</td>\n      <td>5.877472e-39</td>\n    </tr>\n    <tr>\n      <th>23076</th>\n      <td>563080</td>\n      <td>100</td>\n      <td>3</td>\n      <td>中证A50E</td>\n      <td>5.877472e-39</td>\n    </tr>\n    <tr>\n      <th>23077</th>\n      <td>563280</td>\n      <td>100</td>\n      <td>3</td>\n      <td>A50增强\u0000</td>\n      <td>5.877472e-39</td>\n    </tr>\n    <tr>\n      <th>23078</th>\n      <td>563350</td>\n      <td>100</td>\n      <td>3</td>\n      <td>中证A50\u0000</td>\n      <td>5.877472e-39</td>\n    </tr>\n    <tr>\n      <th>23079</th>\n      <td>588450</td>\n      <td>100</td>\n      <td>3</td>\n      <td>科创50增</td>\n      <td>5.877472e-39</td>\n    </tr>\n  </tbody>\n</table>\n<p>23080 rows × 5 columns</p>\n</div>"
     },
     "execution_count": 19,
     "metadata": {},
     "output_type": "execute_result"
    }
   ],
   "source": [
    "symbol"
   ],
   "metadata": {
    "collapsed": false,
    "ExecuteTime": {
     "end_time": "2024-03-01T06:58:05.822973800Z",
     "start_time": "2024-03-01T06:58:05.817084Z"
    }
   },
   "id": "c4a2b59d7a7fe583",
   "execution_count": 19
  },
  {
   "cell_type": "code",
   "outputs": [
    {
     "data": {
      "text/plain": "                         open     close      high       low           vol  \\\ndatetime                                                                    \n2024-03-01 14:58:00  3026.223  3026.385  3026.385  3026.223  7.113980e+05   \n2024-03-01 14:59:00  3026.385  3026.385  3026.385  3026.385  5.877472e-39   \n\n                           amount  year  month  day  hour  minute  \\\ndatetime                                                            \n2024-03-01 14:58:00  7.113986e+07  2024      3    1    14      58   \n2024-03-01 14:59:00  5.877472e-39  2024      3    1    14      59   \n\n                             datetime  up_count  down_count        volume  \ndatetime                                                                   \n2024-03-01 14:58:00  2024-03-01 14:58      1382         828  7.113980e+05  \n2024-03-01 14:59:00  2024-03-01 14:59      1382         828  5.877472e-39  ",
      "text/html": "<div>\n<style scoped>\n    .dataframe tbody tr th:only-of-type {\n        vertical-align: middle;\n    }\n\n    .dataframe tbody tr th {\n        vertical-align: top;\n    }\n\n    .dataframe thead th {\n        text-align: right;\n    }\n</style>\n<table border=\"1\" class=\"dataframe\">\n  <thead>\n    <tr style=\"text-align: right;\">\n      <th></th>\n      <th>open</th>\n      <th>close</th>\n      <th>high</th>\n      <th>low</th>\n      <th>vol</th>\n      <th>amount</th>\n      <th>year</th>\n      <th>month</th>\n      <th>day</th>\n      <th>hour</th>\n      <th>minute</th>\n      <th>datetime</th>\n      <th>up_count</th>\n      <th>down_count</th>\n      <th>volume</th>\n    </tr>\n    <tr>\n      <th>datetime</th>\n      <th></th>\n      <th></th>\n      <th></th>\n      <th></th>\n      <th></th>\n      <th></th>\n      <th></th>\n      <th></th>\n      <th></th>\n      <th></th>\n      <th></th>\n      <th></th>\n      <th></th>\n      <th></th>\n      <th></th>\n    </tr>\n  </thead>\n  <tbody>\n    <tr>\n      <th>2024-03-01 14:58:00</th>\n      <td>3026.223</td>\n      <td>3026.385</td>\n      <td>3026.385</td>\n      <td>3026.223</td>\n      <td>7.113980e+05</td>\n      <td>7.113986e+07</td>\n      <td>2024</td>\n      <td>3</td>\n      <td>1</td>\n      <td>14</td>\n      <td>58</td>\n      <td>2024-03-01 14:58</td>\n      <td>1382</td>\n      <td>828</td>\n      <td>7.113980e+05</td>\n    </tr>\n    <tr>\n      <th>2024-03-01 14:59:00</th>\n      <td>3026.385</td>\n      <td>3026.385</td>\n      <td>3026.385</td>\n      <td>3026.385</td>\n      <td>5.877472e-39</td>\n      <td>5.877472e-39</td>\n      <td>2024</td>\n      <td>3</td>\n      <td>1</td>\n      <td>14</td>\n      <td>59</td>\n      <td>2024-03-01 14:59</td>\n      <td>1382</td>\n      <td>828</td>\n      <td>5.877472e-39</td>\n    </tr>\n  </tbody>\n</table>\n</div>"
     },
     "execution_count": 31,
     "metadata": {},
     "output_type": "execute_result"
    }
   ],
   "source": [
    "client.index(frequency=8, market=consts.MARKET_SH, symbol='000001', start=1, offset=2)\n"
   ],
   "metadata": {
    "collapsed": false,
    "ExecuteTime": {
     "end_time": "2024-03-01T07:12:02.128862100Z",
     "start_time": "2024-03-01T07:12:01.782312300Z"
    }
   },
   "id": "93e375e0f34b8547",
   "execution_count": 31
  },
  {
   "cell_type": "code",
   "outputs": [
    {
     "data": {
      "text/plain": "     price    vol  volume\n0    10.56  86975   86975\n1    10.55  12854   12854\n2    10.57  19218   19218\n3    10.55  17230   17230\n4    10.54  17797   17797\n..     ...    ...     ...\n235  10.49  14777   14777\n236  10.49  11854   11854\n237  10.49    155     155\n238  10.49      0       0\n239  10.49  23805   23805\n\n[240 rows x 3 columns]",
      "text/html": "<div>\n<style scoped>\n    .dataframe tbody tr th:only-of-type {\n        vertical-align: middle;\n    }\n\n    .dataframe tbody tr th {\n        vertical-align: top;\n    }\n\n    .dataframe thead th {\n        text-align: right;\n    }\n</style>\n<table border=\"1\" class=\"dataframe\">\n  <thead>\n    <tr style=\"text-align: right;\">\n      <th></th>\n      <th>price</th>\n      <th>vol</th>\n      <th>volume</th>\n    </tr>\n  </thead>\n  <tbody>\n    <tr>\n      <th>0</th>\n      <td>10.56</td>\n      <td>86975</td>\n      <td>86975</td>\n    </tr>\n    <tr>\n      <th>1</th>\n      <td>10.55</td>\n      <td>12854</td>\n      <td>12854</td>\n    </tr>\n    <tr>\n      <th>2</th>\n      <td>10.57</td>\n      <td>19218</td>\n      <td>19218</td>\n    </tr>\n    <tr>\n      <th>3</th>\n      <td>10.55</td>\n      <td>17230</td>\n      <td>17230</td>\n    </tr>\n    <tr>\n      <th>4</th>\n      <td>10.54</td>\n      <td>17797</td>\n      <td>17797</td>\n    </tr>\n    <tr>\n      <th>...</th>\n      <td>...</td>\n      <td>...</td>\n      <td>...</td>\n    </tr>\n    <tr>\n      <th>235</th>\n      <td>10.49</td>\n      <td>14777</td>\n      <td>14777</td>\n    </tr>\n    <tr>\n      <th>236</th>\n      <td>10.49</td>\n      <td>11854</td>\n      <td>11854</td>\n    </tr>\n    <tr>\n      <th>237</th>\n      <td>10.49</td>\n      <td>155</td>\n      <td>155</td>\n    </tr>\n    <tr>\n      <th>238</th>\n      <td>10.49</td>\n      <td>0</td>\n      <td>0</td>\n    </tr>\n    <tr>\n      <th>239</th>\n      <td>10.49</td>\n      <td>23805</td>\n      <td>23805</td>\n    </tr>\n  </tbody>\n</table>\n<p>240 rows × 3 columns</p>\n</div>"
     },
     "execution_count": 22,
     "metadata": {},
     "output_type": "execute_result"
    }
   ],
   "source": [
    "client.minute(symbol='000001')\n"
   ],
   "metadata": {
    "collapsed": false,
    "ExecuteTime": {
     "end_time": "2024-03-01T07:00:21.598876600Z",
     "start_time": "2024-03-01T07:00:21.545641700Z"
    }
   },
   "id": "dc0990ff6046821",
   "execution_count": 22
  },
  {
   "cell_type": "markdown",
   "source": [],
   "metadata": {
    "collapsed": false
   },
   "id": "3d9cf1d0ce25b277"
  },
  {
   "cell_type": "code",
   "outputs": [
    {
     "data": {
      "text/plain": "     price    vol  volume\n0    13.81  26829   26829\n1    13.79   5661    5661\n2    13.77   5185    5185\n3    13.78   8662    8662\n4    13.78   7335    7335\n..     ...    ...     ...\n235  14.17   6144    6144\n236  14.17   7728    7728\n237  14.17     49      49\n238  14.17      0       0\n239  14.17  12274   12274\n\n[240 rows x 3 columns]",
      "text/html": "<div>\n<style scoped>\n    .dataframe tbody tr th:only-of-type {\n        vertical-align: middle;\n    }\n\n    .dataframe tbody tr th {\n        vertical-align: top;\n    }\n\n    .dataframe thead th {\n        text-align: right;\n    }\n</style>\n<table border=\"1\" class=\"dataframe\">\n  <thead>\n    <tr style=\"text-align: right;\">\n      <th></th>\n      <th>price</th>\n      <th>vol</th>\n      <th>volume</th>\n    </tr>\n  </thead>\n  <tbody>\n    <tr>\n      <th>0</th>\n      <td>13.81</td>\n      <td>26829</td>\n      <td>26829</td>\n    </tr>\n    <tr>\n      <th>1</th>\n      <td>13.79</td>\n      <td>5661</td>\n      <td>5661</td>\n    </tr>\n    <tr>\n      <th>2</th>\n      <td>13.77</td>\n      <td>5185</td>\n      <td>5185</td>\n    </tr>\n    <tr>\n      <th>3</th>\n      <td>13.78</td>\n      <td>8662</td>\n      <td>8662</td>\n    </tr>\n    <tr>\n      <th>4</th>\n      <td>13.78</td>\n      <td>7335</td>\n      <td>7335</td>\n    </tr>\n    <tr>\n      <th>...</th>\n      <td>...</td>\n      <td>...</td>\n      <td>...</td>\n    </tr>\n    <tr>\n      <th>235</th>\n      <td>14.17</td>\n      <td>6144</td>\n      <td>6144</td>\n    </tr>\n    <tr>\n      <th>236</th>\n      <td>14.17</td>\n      <td>7728</td>\n      <td>7728</td>\n    </tr>\n    <tr>\n      <th>237</th>\n      <td>14.17</td>\n      <td>49</td>\n      <td>49</td>\n    </tr>\n    <tr>\n      <th>238</th>\n      <td>14.17</td>\n      <td>0</td>\n      <td>0</td>\n    </tr>\n    <tr>\n      <th>239</th>\n      <td>14.17</td>\n      <td>12274</td>\n      <td>12274</td>\n    </tr>\n  </tbody>\n</table>\n<p>240 rows × 3 columns</p>\n</div>"
     },
     "execution_count": 46,
     "metadata": {},
     "output_type": "execute_result"
    }
   ],
   "source": [
    "client.minutes(symbol='000001', date='20230301')\n"
   ],
   "metadata": {
    "collapsed": false,
    "ExecuteTime": {
     "end_time": "2024-03-01T07:33:52.955061300Z",
     "start_time": "2024-03-01T07:33:52.870134300Z"
    }
   },
   "id": "674d2c439c3f26c0",
   "execution_count": 46
  },
  {
   "cell_type": "markdown",
   "source": [],
   "metadata": {
    "collapsed": false
   },
   "id": "31d2806aeb61b2c4"
  },
  {
   "cell_type": "code",
   "outputs": [
    {
     "data": {
      "text/plain": "Empty DataFrame\nColumns: []\nIndex: []",
      "text/html": "<div>\n<style scoped>\n    .dataframe tbody tr th:only-of-type {\n        vertical-align: middle;\n    }\n\n    .dataframe tbody tr th {\n        vertical-align: top;\n    }\n\n    .dataframe thead th {\n        text-align: right;\n    }\n</style>\n<table border=\"1\" class=\"dataframe\">\n  <thead>\n    <tr style=\"text-align: right;\">\n      <th></th>\n    </tr>\n  </thead>\n  <tbody>\n  </tbody>\n</table>\n</div>"
     },
     "execution_count": 26,
     "metadata": {},
     "output_type": "execute_result"
    }
   ],
   "source": [
    "client.minutes(symbol='000001', date='20171010')\n"
   ],
   "metadata": {
    "collapsed": false,
    "ExecuteTime": {
     "end_time": "2024-03-01T07:02:01.539872300Z",
     "start_time": "2024-03-01T07:02:01.535106600Z"
    }
   },
   "id": "7f1adfcc373a4797",
   "execution_count": 26
  },
  {
   "cell_type": "code",
   "outputs": [
    {
     "data": {
      "text/plain": "       time    price   vol  buyorsell  volume\n0     11:22  1691.00    23          1      23\n1     11:22  1691.87     3          0       3\n2     11:22  1691.86     2          0       2\n3     11:22  1691.86     2          0       2\n4     11:22  1691.86     1          0       1\n...     ...      ...   ...        ...     ...\n1995  14:56  1695.49    14          0      14\n1996  14:56  1695.59     2          0       2\n1997  14:56  1695.51     3          0       3\n1998  14:57  1695.33     5          1       5\n1999  15:00  1695.00  1488          2    1488\n\n[2000 rows x 5 columns]",
      "text/html": "<div>\n<style scoped>\n    .dataframe tbody tr th:only-of-type {\n        vertical-align: middle;\n    }\n\n    .dataframe tbody tr th {\n        vertical-align: top;\n    }\n\n    .dataframe thead th {\n        text-align: right;\n    }\n</style>\n<table border=\"1\" class=\"dataframe\">\n  <thead>\n    <tr style=\"text-align: right;\">\n      <th></th>\n      <th>time</th>\n      <th>price</th>\n      <th>vol</th>\n      <th>buyorsell</th>\n      <th>volume</th>\n    </tr>\n  </thead>\n  <tbody>\n    <tr>\n      <th>0</th>\n      <td>11:22</td>\n      <td>1691.00</td>\n      <td>23</td>\n      <td>1</td>\n      <td>23</td>\n    </tr>\n    <tr>\n      <th>1</th>\n      <td>11:22</td>\n      <td>1691.87</td>\n      <td>3</td>\n      <td>0</td>\n      <td>3</td>\n    </tr>\n    <tr>\n      <th>2</th>\n      <td>11:22</td>\n      <td>1691.86</td>\n      <td>2</td>\n      <td>0</td>\n      <td>2</td>\n    </tr>\n    <tr>\n      <th>3</th>\n      <td>11:22</td>\n      <td>1691.86</td>\n      <td>2</td>\n      <td>0</td>\n      <td>2</td>\n    </tr>\n    <tr>\n      <th>4</th>\n      <td>11:22</td>\n      <td>1691.86</td>\n      <td>1</td>\n      <td>0</td>\n      <td>1</td>\n    </tr>\n    <tr>\n      <th>...</th>\n      <td>...</td>\n      <td>...</td>\n      <td>...</td>\n      <td>...</td>\n      <td>...</td>\n    </tr>\n    <tr>\n      <th>1995</th>\n      <td>14:56</td>\n      <td>1695.49</td>\n      <td>14</td>\n      <td>0</td>\n      <td>14</td>\n    </tr>\n    <tr>\n      <th>1996</th>\n      <td>14:56</td>\n      <td>1695.59</td>\n      <td>2</td>\n      <td>0</td>\n      <td>2</td>\n    </tr>\n    <tr>\n      <th>1997</th>\n      <td>14:56</td>\n      <td>1695.51</td>\n      <td>3</td>\n      <td>0</td>\n      <td>3</td>\n    </tr>\n    <tr>\n      <th>1998</th>\n      <td>14:57</td>\n      <td>1695.33</td>\n      <td>5</td>\n      <td>1</td>\n      <td>5</td>\n    </tr>\n    <tr>\n      <th>1999</th>\n      <td>15:00</td>\n      <td>1695.00</td>\n      <td>1488</td>\n      <td>2</td>\n      <td>1488</td>\n    </tr>\n  </tbody>\n</table>\n<p>2000 rows × 5 columns</p>\n</div>"
     },
     "execution_count": 50,
     "metadata": {},
     "output_type": "execute_result"
    }
   ],
   "source": [
    "client.transactions(symbol='600519', start=0, offset=5000, date='20240229')\n"
   ],
   "metadata": {
    "collapsed": false,
    "ExecuteTime": {
     "end_time": "2024-03-01T07:36:12.092577600Z",
     "start_time": "2024-03-01T07:36:12.032635100Z"
    }
   },
   "id": "b4b819eb82828e46",
   "execution_count": 50
  },
  {
   "cell_type": "code",
   "outputs": [
    {
     "data": {
      "text/plain": "            open  close  high   low       vol       amount        date  \\\ndate                                                                     \n2010-07-05  5.87   6.02  6.12  5.85  235857.0  142349680.0  2010-07-05   \n2010-07-06  6.02   6.08  6.12  5.96  182492.0  110355488.0  2010-07-06   \n2010-07-07  6.08   6.04  6.08  5.93  131448.0   78940216.0  2010-07-07   \n2010-07-08  6.06   5.93  6.07  5.85  127236.0   75494672.0  2010-07-08   \n2010-07-09  5.98   6.33  6.50  5.88  408972.0  254259616.0  2010-07-09   \n...          ...    ...   ...   ...       ...          ...         ...   \n2024-02-26  2.73   2.76  2.81  2.73  215301.0   59572160.0  2024-02-26   \n2024-02-27  2.77   2.82  2.82  2.76  175189.0   48927232.0  2024-02-27   \n2024-02-28  2.83   2.73  2.99  2.73  447208.0  128282696.0  2024-02-28   \n2024-02-29  2.72   2.80  2.80  2.61  305363.0   83782536.0  2024-02-29   \n2024-03-01  2.79   2.77  2.81  2.73  212923.0   58883940.0  2024-03-01   \n\n              code    volume  \ndate                          \n2010-07-05  600300  235857.0  \n2010-07-06  600300  182492.0  \n2010-07-07  600300  131448.0  \n2010-07-08  600300  127236.0  \n2010-07-09  600300  408972.0  \n...            ...       ...  \n2024-02-26  600300  215301.0  \n2024-02-27  600300  175189.0  \n2024-02-28  600300  447208.0  \n2024-02-29  600300  305363.0  \n2024-03-01  600300  212923.0  \n\n[3292 rows x 9 columns]",
      "text/html": "<div>\n<style scoped>\n    .dataframe tbody tr th:only-of-type {\n        vertical-align: middle;\n    }\n\n    .dataframe tbody tr th {\n        vertical-align: top;\n    }\n\n    .dataframe thead th {\n        text-align: right;\n    }\n</style>\n<table border=\"1\" class=\"dataframe\">\n  <thead>\n    <tr style=\"text-align: right;\">\n      <th></th>\n      <th>open</th>\n      <th>close</th>\n      <th>high</th>\n      <th>low</th>\n      <th>vol</th>\n      <th>amount</th>\n      <th>date</th>\n      <th>code</th>\n      <th>volume</th>\n    </tr>\n    <tr>\n      <th>date</th>\n      <th></th>\n      <th></th>\n      <th></th>\n      <th></th>\n      <th></th>\n      <th></th>\n      <th></th>\n      <th></th>\n      <th></th>\n    </tr>\n  </thead>\n  <tbody>\n    <tr>\n      <th>2010-07-05</th>\n      <td>5.87</td>\n      <td>6.02</td>\n      <td>6.12</td>\n      <td>5.85</td>\n      <td>235857.0</td>\n      <td>142349680.0</td>\n      <td>2010-07-05</td>\n      <td>600300</td>\n      <td>235857.0</td>\n    </tr>\n    <tr>\n      <th>2010-07-06</th>\n      <td>6.02</td>\n      <td>6.08</td>\n      <td>6.12</td>\n      <td>5.96</td>\n      <td>182492.0</td>\n      <td>110355488.0</td>\n      <td>2010-07-06</td>\n      <td>600300</td>\n      <td>182492.0</td>\n    </tr>\n    <tr>\n      <th>2010-07-07</th>\n      <td>6.08</td>\n      <td>6.04</td>\n      <td>6.08</td>\n      <td>5.93</td>\n      <td>131448.0</td>\n      <td>78940216.0</td>\n      <td>2010-07-07</td>\n      <td>600300</td>\n      <td>131448.0</td>\n    </tr>\n    <tr>\n      <th>2010-07-08</th>\n      <td>6.06</td>\n      <td>5.93</td>\n      <td>6.07</td>\n      <td>5.85</td>\n      <td>127236.0</td>\n      <td>75494672.0</td>\n      <td>2010-07-08</td>\n      <td>600300</td>\n      <td>127236.0</td>\n    </tr>\n    <tr>\n      <th>2010-07-09</th>\n      <td>5.98</td>\n      <td>6.33</td>\n      <td>6.50</td>\n      <td>5.88</td>\n      <td>408972.0</td>\n      <td>254259616.0</td>\n      <td>2010-07-09</td>\n      <td>600300</td>\n      <td>408972.0</td>\n    </tr>\n    <tr>\n      <th>...</th>\n      <td>...</td>\n      <td>...</td>\n      <td>...</td>\n      <td>...</td>\n      <td>...</td>\n      <td>...</td>\n      <td>...</td>\n      <td>...</td>\n      <td>...</td>\n    </tr>\n    <tr>\n      <th>2024-02-26</th>\n      <td>2.73</td>\n      <td>2.76</td>\n      <td>2.81</td>\n      <td>2.73</td>\n      <td>215301.0</td>\n      <td>59572160.0</td>\n      <td>2024-02-26</td>\n      <td>600300</td>\n      <td>215301.0</td>\n    </tr>\n    <tr>\n      <th>2024-02-27</th>\n      <td>2.77</td>\n      <td>2.82</td>\n      <td>2.82</td>\n      <td>2.76</td>\n      <td>175189.0</td>\n      <td>48927232.0</td>\n      <td>2024-02-27</td>\n      <td>600300</td>\n      <td>175189.0</td>\n    </tr>\n    <tr>\n      <th>2024-02-28</th>\n      <td>2.83</td>\n      <td>2.73</td>\n      <td>2.99</td>\n      <td>2.73</td>\n      <td>447208.0</td>\n      <td>128282696.0</td>\n      <td>2024-02-28</td>\n      <td>600300</td>\n      <td>447208.0</td>\n    </tr>\n    <tr>\n      <th>2024-02-29</th>\n      <td>2.72</td>\n      <td>2.80</td>\n      <td>2.80</td>\n      <td>2.61</td>\n      <td>305363.0</td>\n      <td>83782536.0</td>\n      <td>2024-02-29</td>\n      <td>600300</td>\n      <td>305363.0</td>\n    </tr>\n    <tr>\n      <th>2024-03-01</th>\n      <td>2.79</td>\n      <td>2.77</td>\n      <td>2.81</td>\n      <td>2.73</td>\n      <td>212923.0</td>\n      <td>58883940.0</td>\n      <td>2024-03-01</td>\n      <td>600300</td>\n      <td>212923.0</td>\n    </tr>\n  </tbody>\n</table>\n<p>3292 rows × 9 columns</p>\n</div>"
     },
     "execution_count": 35,
     "metadata": {},
     "output_type": "execute_result"
    }
   ],
   "source": [
    "client = Quotes.factory(market='std')\n",
    "client.k(symbol=\"600300\", begin=\"2010-07-03\", end=\"2024-07-10\")"
   ],
   "metadata": {
    "collapsed": false,
    "ExecuteTime": {
     "end_time": "2024-03-01T07:25:40.341730700Z",
     "start_time": "2024-03-01T07:25:39.863232100Z"
    }
   },
   "id": "160be74c0df51d8e",
   "execution_count": 35
  },
  {
   "cell_type": "code",
   "outputs": [
    {
     "name": "stdout",
     "output_type": "stream",
     "text": [
      "~~~\n"
     ]
    },
    {
     "name": "stderr",
     "output_type": "stream",
     "text": [
      "C:\\Users\\lunyaqi\\AppData\\Local\\Programs\\Python\\Python311\\Lib\\site-packages\\mootdx\\tools\\reversion.py:18: FutureWarning: Series.fillna with 'method' is deprecated and will raise in a future version. Use obj.ffill() or obj.bfill() instead.\n",
      "  data.factor = data.factor.fillna(method=('ffill', 'bfill')[method == 'qfq'], axis=0)\n",
      "C:\\Users\\lunyaqi\\AppData\\Local\\Programs\\Python\\Python311\\Lib\\site-packages\\mootdx\\tools\\reversion.py:18: FutureWarning: Downcasting object dtype arrays on .fillna, .ffill, .bfill is deprecated and will change in a future version. Call result.infer_objects(copy=False) instead. To opt-in to the future behavior, set `pd.set_option('future.no_silent_downcasting', True)`\n",
      "  data.factor = data.factor.fillna(method=('ffill', 'bfill')[method == 'qfq'], axis=0)\n"
     ]
    },
    {
     "data": {
      "text/plain": "            open  close  high   low       vol       amount        date  \\\ndate                                                                     \n2017-07-03  5.34   5.40  5.41  5.29  111733.0   59721688.0  2017-07-03   \n2017-07-04  5.38   5.34  5.39  5.31   82637.0   44179364.0  2017-07-04   \n2017-07-05  5.35   5.35  5.36  5.30  109389.0   58219360.0  2017-07-05   \n2017-07-06  5.35   5.34  5.36  5.29  111139.0   59126872.0  2017-07-06   \n2017-07-07  5.33   5.53  5.57  5.29  390578.0  213569888.0  2017-07-07   \n\n              code    volume  factor  \ndate                                  \n2017-07-03  600300  111733.0     1.0  \n2017-07-04  600300   82637.0     1.0  \n2017-07-05  600300  109389.0     1.0  \n2017-07-06  600300  111139.0     1.0  \n2017-07-07  600300  390578.0     1.0  ",
      "text/html": "<div>\n<style scoped>\n    .dataframe tbody tr th:only-of-type {\n        vertical-align: middle;\n    }\n\n    .dataframe tbody tr th {\n        vertical-align: top;\n    }\n\n    .dataframe thead th {\n        text-align: right;\n    }\n</style>\n<table border=\"1\" class=\"dataframe\">\n  <thead>\n    <tr style=\"text-align: right;\">\n      <th></th>\n      <th>open</th>\n      <th>close</th>\n      <th>high</th>\n      <th>low</th>\n      <th>vol</th>\n      <th>amount</th>\n      <th>date</th>\n      <th>code</th>\n      <th>volume</th>\n      <th>factor</th>\n    </tr>\n    <tr>\n      <th>date</th>\n      <th></th>\n      <th></th>\n      <th></th>\n      <th></th>\n      <th></th>\n      <th></th>\n      <th></th>\n      <th></th>\n      <th></th>\n      <th></th>\n    </tr>\n  </thead>\n  <tbody>\n    <tr>\n      <th>2017-07-03</th>\n      <td>5.34</td>\n      <td>5.40</td>\n      <td>5.41</td>\n      <td>5.29</td>\n      <td>111733.0</td>\n      <td>59721688.0</td>\n      <td>2017-07-03</td>\n      <td>600300</td>\n      <td>111733.0</td>\n      <td>1.0</td>\n    </tr>\n    <tr>\n      <th>2017-07-04</th>\n      <td>5.38</td>\n      <td>5.34</td>\n      <td>5.39</td>\n      <td>5.31</td>\n      <td>82637.0</td>\n      <td>44179364.0</td>\n      <td>2017-07-04</td>\n      <td>600300</td>\n      <td>82637.0</td>\n      <td>1.0</td>\n    </tr>\n    <tr>\n      <th>2017-07-05</th>\n      <td>5.35</td>\n      <td>5.35</td>\n      <td>5.36</td>\n      <td>5.30</td>\n      <td>109389.0</td>\n      <td>58219360.0</td>\n      <td>2017-07-05</td>\n      <td>600300</td>\n      <td>109389.0</td>\n      <td>1.0</td>\n    </tr>\n    <tr>\n      <th>2017-07-06</th>\n      <td>5.35</td>\n      <td>5.34</td>\n      <td>5.36</td>\n      <td>5.29</td>\n      <td>111139.0</td>\n      <td>59126872.0</td>\n      <td>2017-07-06</td>\n      <td>600300</td>\n      <td>111139.0</td>\n      <td>1.0</td>\n    </tr>\n    <tr>\n      <th>2017-07-07</th>\n      <td>5.33</td>\n      <td>5.53</td>\n      <td>5.57</td>\n      <td>5.29</td>\n      <td>390578.0</td>\n      <td>213569888.0</td>\n      <td>2017-07-07</td>\n      <td>600300</td>\n      <td>390578.0</td>\n      <td>1.0</td>\n    </tr>\n  </tbody>\n</table>\n</div>"
     },
     "execution_count": 51,
     "metadata": {},
     "output_type": "execute_result"
    }
   ],
   "source": [
    "client.k(symbol=\"600300\", begin=\"2017-07-03\", end=\"2017-07-10\", adjust='hfq')\n"
   ],
   "metadata": {
    "collapsed": false,
    "ExecuteTime": {
     "end_time": "2024-03-01T07:47:12.340593700Z",
     "start_time": "2024-03-01T07:47:10.479029300Z"
    }
   },
   "id": "3db993d3fed8497e",
   "execution_count": 51
  },
  {
   "cell_type": "markdown",
   "source": [
    "## 测试akshare"
   ],
   "metadata": {
    "collapsed": false
   },
   "id": "f62787d2d574ba7"
  },
  {
   "cell_type": "code",
   "outputs": [
    {
     "data": {
      "text/plain": "             open   high    low  close        amount      volume\ndate                                                            \n2015-01-05  16.56  17.07  16.25  16.68  8.302085e+09  5001871.28\n2015-01-06  16.40  17.20  16.29  16.42  7.100975e+09  4268772.34\n2015-01-07  16.20  16.56  15.94  16.16  4.806397e+09  2961696.04\n2015-01-08  16.25  16.34  15.53  15.57  4.621825e+09  2929211.10\n2015-01-09  15.56  16.56  15.36  15.71  7.356772e+09  4613634.97\n...           ...    ...    ...    ...           ...         ...\n2024-02-26  32.86  33.06  32.08  32.25  2.163023e+09   666390.18\n2024-02-27  32.24  32.40  31.99  32.18  1.746109e+09   543491.54\n2024-02-28  32.29  32.29  31.60  32.02  2.186678e+09   683707.52\n2024-02-29  31.89  32.20  31.85  32.04  1.595634e+09   498928.29\n2024-03-01  31.92  32.08  31.75  31.94  1.361854e+09   427173.92\n\n[2222 rows x 6 columns]",
      "text/html": "<div>\n<style scoped>\n    .dataframe tbody tr th:only-of-type {\n        vertical-align: middle;\n    }\n\n    .dataframe tbody tr th {\n        vertical-align: top;\n    }\n\n    .dataframe thead th {\n        text-align: right;\n    }\n</style>\n<table border=\"1\" class=\"dataframe\">\n  <thead>\n    <tr style=\"text-align: right;\">\n      <th></th>\n      <th>open</th>\n      <th>high</th>\n      <th>low</th>\n      <th>close</th>\n      <th>amount</th>\n      <th>volume</th>\n    </tr>\n    <tr>\n      <th>date</th>\n      <th></th>\n      <th></th>\n      <th></th>\n      <th></th>\n      <th></th>\n      <th></th>\n    </tr>\n  </thead>\n  <tbody>\n    <tr>\n      <th>2015-01-05</th>\n      <td>16.56</td>\n      <td>17.07</td>\n      <td>16.25</td>\n      <td>16.68</td>\n      <td>8.302085e+09</td>\n      <td>5001871.28</td>\n    </tr>\n    <tr>\n      <th>2015-01-06</th>\n      <td>16.40</td>\n      <td>17.20</td>\n      <td>16.29</td>\n      <td>16.42</td>\n      <td>7.100975e+09</td>\n      <td>4268772.34</td>\n    </tr>\n    <tr>\n      <th>2015-01-07</th>\n      <td>16.20</td>\n      <td>16.56</td>\n      <td>15.94</td>\n      <td>16.16</td>\n      <td>4.806397e+09</td>\n      <td>2961696.04</td>\n    </tr>\n    <tr>\n      <th>2015-01-08</th>\n      <td>16.25</td>\n      <td>16.34</td>\n      <td>15.53</td>\n      <td>15.57</td>\n      <td>4.621825e+09</td>\n      <td>2929211.10</td>\n    </tr>\n    <tr>\n      <th>2015-01-09</th>\n      <td>15.56</td>\n      <td>16.56</td>\n      <td>15.36</td>\n      <td>15.71</td>\n      <td>7.356772e+09</td>\n      <td>4613634.97</td>\n    </tr>\n    <tr>\n      <th>...</th>\n      <td>...</td>\n      <td>...</td>\n      <td>...</td>\n      <td>...</td>\n      <td>...</td>\n      <td>...</td>\n    </tr>\n    <tr>\n      <th>2024-02-26</th>\n      <td>32.86</td>\n      <td>33.06</td>\n      <td>32.08</td>\n      <td>32.25</td>\n      <td>2.163023e+09</td>\n      <td>666390.18</td>\n    </tr>\n    <tr>\n      <th>2024-02-27</th>\n      <td>32.24</td>\n      <td>32.40</td>\n      <td>31.99</td>\n      <td>32.18</td>\n      <td>1.746109e+09</td>\n      <td>543491.54</td>\n    </tr>\n    <tr>\n      <th>2024-02-28</th>\n      <td>32.29</td>\n      <td>32.29</td>\n      <td>31.60</td>\n      <td>32.02</td>\n      <td>2.186678e+09</td>\n      <td>683707.52</td>\n    </tr>\n    <tr>\n      <th>2024-02-29</th>\n      <td>31.89</td>\n      <td>32.20</td>\n      <td>31.85</td>\n      <td>32.04</td>\n      <td>1.595634e+09</td>\n      <td>498928.29</td>\n    </tr>\n    <tr>\n      <th>2024-03-01</th>\n      <td>31.92</td>\n      <td>32.08</td>\n      <td>31.75</td>\n      <td>31.94</td>\n      <td>1.361854e+09</td>\n      <td>427173.92</td>\n    </tr>\n  </tbody>\n</table>\n<p>2222 rows × 6 columns</p>\n</div>"
     },
     "execution_count": 53,
     "metadata": {},
     "output_type": "execute_result"
    }
   ],
   "source": [
    "from mootdx.reader import Reader\n",
    "\n",
    "reader = Reader.factory(market='std', tdxdir='E:/new_tdx')\n",
    "\n",
    "# 读取日线数据\n",
    "reader.daily(symbol='600036')\n"
   ],
   "metadata": {
    "collapsed": false,
    "ExecuteTime": {
     "end_time": "2024-03-01T08:03:14.260424Z",
     "start_time": "2024-03-01T08:03:14.246541900Z"
    }
   },
   "id": "3ea42a586c057746",
   "execution_count": 53
  },
  {
   "cell_type": "code",
   "outputs": [
    {
     "data": {
      "text/plain": "                      open  close   high    low           vol        amount  \\\ndatetime                                                                      \n2024-02-27 13:41:00  32.00  32.01  32.01  32.00  2.064000e+05  6.605655e+06   \n2024-02-27 13:42:00  32.01  32.01  32.01  32.00  5.446000e+05  1.742800e+07   \n2024-02-27 13:43:00  32.00  32.00  32.01  31.99  3.808000e+05  1.218492e+07   \n2024-02-27 13:44:00  32.00  31.99  32.01  31.99  2.125000e+05  6.799870e+06   \n2024-02-27 13:45:00  31.99  32.00  32.00  31.99  1.700000e+05  5.438770e+06   \n...                    ...    ...    ...    ...           ...           ...   \n2024-03-01 14:56:00  31.95  31.94  31.95  31.93  2.810000e+05  8.974463e+06   \n2024-03-01 14:57:00  31.94  31.95  31.95  31.93  2.637000e+05  8.423708e+06   \n2024-03-01 14:58:00  31.94  31.94  31.94  31.94  1.000000e+03  3.194000e+04   \n2024-03-01 14:59:00  31.94  31.94  31.94  31.94  5.877472e-39  5.877472e-39   \n2024-03-01 15:00:00  31.94  31.94  31.94  31.94  4.833000e+05  1.543772e+07   \n\n                     year  month  day  hour  minute          datetime  \\\ndatetime                                                                \n2024-02-27 13:41:00  2024      2   27    13      41  2024-02-27 13:41   \n2024-02-27 13:42:00  2024      2   27    13      42  2024-02-27 13:42   \n2024-02-27 13:43:00  2024      2   27    13      43  2024-02-27 13:43   \n2024-02-27 13:44:00  2024      2   27    13      44  2024-02-27 13:44   \n2024-02-27 13:45:00  2024      2   27    13      45  2024-02-27 13:45   \n...                   ...    ...  ...   ...     ...               ...   \n2024-03-01 14:56:00  2024      3    1    14      56  2024-03-01 14:56   \n2024-03-01 14:57:00  2024      3    1    14      57  2024-03-01 14:57   \n2024-03-01 14:58:00  2024      3    1    14      58  2024-03-01 14:58   \n2024-03-01 14:59:00  2024      3    1    14      59  2024-03-01 14:59   \n2024-03-01 15:00:00  2024      3    1    15       0  2024-03-01 15:00   \n\n                           volume  \ndatetime                           \n2024-02-27 13:41:00  2.064000e+05  \n2024-02-27 13:42:00  5.446000e+05  \n2024-02-27 13:43:00  3.808000e+05  \n2024-02-27 13:44:00  2.125000e+05  \n2024-02-27 13:45:00  1.700000e+05  \n...                           ...  \n2024-03-01 14:56:00  2.810000e+05  \n2024-03-01 14:57:00  2.637000e+05  \n2024-03-01 14:58:00  1.000000e+03  \n2024-03-01 14:59:00  5.877472e-39  \n2024-03-01 15:00:00  4.833000e+05  \n\n[800 rows x 13 columns]",
      "text/html": "<div>\n<style scoped>\n    .dataframe tbody tr th:only-of-type {\n        vertical-align: middle;\n    }\n\n    .dataframe tbody tr th {\n        vertical-align: top;\n    }\n\n    .dataframe thead th {\n        text-align: right;\n    }\n</style>\n<table border=\"1\" class=\"dataframe\">\n  <thead>\n    <tr style=\"text-align: right;\">\n      <th></th>\n      <th>open</th>\n      <th>close</th>\n      <th>high</th>\n      <th>low</th>\n      <th>vol</th>\n      <th>amount</th>\n      <th>year</th>\n      <th>month</th>\n      <th>day</th>\n      <th>hour</th>\n      <th>minute</th>\n      <th>datetime</th>\n      <th>volume</th>\n    </tr>\n    <tr>\n      <th>datetime</th>\n      <th></th>\n      <th></th>\n      <th></th>\n      <th></th>\n      <th></th>\n      <th></th>\n      <th></th>\n      <th></th>\n      <th></th>\n      <th></th>\n      <th></th>\n      <th></th>\n      <th></th>\n    </tr>\n  </thead>\n  <tbody>\n    <tr>\n      <th>2024-02-27 13:41:00</th>\n      <td>32.00</td>\n      <td>32.01</td>\n      <td>32.01</td>\n      <td>32.00</td>\n      <td>2.064000e+05</td>\n      <td>6.605655e+06</td>\n      <td>2024</td>\n      <td>2</td>\n      <td>27</td>\n      <td>13</td>\n      <td>41</td>\n      <td>2024-02-27 13:41</td>\n      <td>2.064000e+05</td>\n    </tr>\n    <tr>\n      <th>2024-02-27 13:42:00</th>\n      <td>32.01</td>\n      <td>32.01</td>\n      <td>32.01</td>\n      <td>32.00</td>\n      <td>5.446000e+05</td>\n      <td>1.742800e+07</td>\n      <td>2024</td>\n      <td>2</td>\n      <td>27</td>\n      <td>13</td>\n      <td>42</td>\n      <td>2024-02-27 13:42</td>\n      <td>5.446000e+05</td>\n    </tr>\n    <tr>\n      <th>2024-02-27 13:43:00</th>\n      <td>32.00</td>\n      <td>32.00</td>\n      <td>32.01</td>\n      <td>31.99</td>\n      <td>3.808000e+05</td>\n      <td>1.218492e+07</td>\n      <td>2024</td>\n      <td>2</td>\n      <td>27</td>\n      <td>13</td>\n      <td>43</td>\n      <td>2024-02-27 13:43</td>\n      <td>3.808000e+05</td>\n    </tr>\n    <tr>\n      <th>2024-02-27 13:44:00</th>\n      <td>32.00</td>\n      <td>31.99</td>\n      <td>32.01</td>\n      <td>31.99</td>\n      <td>2.125000e+05</td>\n      <td>6.799870e+06</td>\n      <td>2024</td>\n      <td>2</td>\n      <td>27</td>\n      <td>13</td>\n      <td>44</td>\n      <td>2024-02-27 13:44</td>\n      <td>2.125000e+05</td>\n    </tr>\n    <tr>\n      <th>2024-02-27 13:45:00</th>\n      <td>31.99</td>\n      <td>32.00</td>\n      <td>32.00</td>\n      <td>31.99</td>\n      <td>1.700000e+05</td>\n      <td>5.438770e+06</td>\n      <td>2024</td>\n      <td>2</td>\n      <td>27</td>\n      <td>13</td>\n      <td>45</td>\n      <td>2024-02-27 13:45</td>\n      <td>1.700000e+05</td>\n    </tr>\n    <tr>\n      <th>...</th>\n      <td>...</td>\n      <td>...</td>\n      <td>...</td>\n      <td>...</td>\n      <td>...</td>\n      <td>...</td>\n      <td>...</td>\n      <td>...</td>\n      <td>...</td>\n      <td>...</td>\n      <td>...</td>\n      <td>...</td>\n      <td>...</td>\n    </tr>\n    <tr>\n      <th>2024-03-01 14:56:00</th>\n      <td>31.95</td>\n      <td>31.94</td>\n      <td>31.95</td>\n      <td>31.93</td>\n      <td>2.810000e+05</td>\n      <td>8.974463e+06</td>\n      <td>2024</td>\n      <td>3</td>\n      <td>1</td>\n      <td>14</td>\n      <td>56</td>\n      <td>2024-03-01 14:56</td>\n      <td>2.810000e+05</td>\n    </tr>\n    <tr>\n      <th>2024-03-01 14:57:00</th>\n      <td>31.94</td>\n      <td>31.95</td>\n      <td>31.95</td>\n      <td>31.93</td>\n      <td>2.637000e+05</td>\n      <td>8.423708e+06</td>\n      <td>2024</td>\n      <td>3</td>\n      <td>1</td>\n      <td>14</td>\n      <td>57</td>\n      <td>2024-03-01 14:57</td>\n      <td>2.637000e+05</td>\n    </tr>\n    <tr>\n      <th>2024-03-01 14:58:00</th>\n      <td>31.94</td>\n      <td>31.94</td>\n      <td>31.94</td>\n      <td>31.94</td>\n      <td>1.000000e+03</td>\n      <td>3.194000e+04</td>\n      <td>2024</td>\n      <td>3</td>\n      <td>1</td>\n      <td>14</td>\n      <td>58</td>\n      <td>2024-03-01 14:58</td>\n      <td>1.000000e+03</td>\n    </tr>\n    <tr>\n      <th>2024-03-01 14:59:00</th>\n      <td>31.94</td>\n      <td>31.94</td>\n      <td>31.94</td>\n      <td>31.94</td>\n      <td>5.877472e-39</td>\n      <td>5.877472e-39</td>\n      <td>2024</td>\n      <td>3</td>\n      <td>1</td>\n      <td>14</td>\n      <td>59</td>\n      <td>2024-03-01 14:59</td>\n      <td>5.877472e-39</td>\n    </tr>\n    <tr>\n      <th>2024-03-01 15:00:00</th>\n      <td>31.94</td>\n      <td>31.94</td>\n      <td>31.94</td>\n      <td>31.94</td>\n      <td>4.833000e+05</td>\n      <td>1.543772e+07</td>\n      <td>2024</td>\n      <td>3</td>\n      <td>1</td>\n      <td>15</td>\n      <td>0</td>\n      <td>2024-03-01 15:00</td>\n      <td>4.833000e+05</td>\n    </tr>\n  </tbody>\n</table>\n<p>800 rows × 13 columns</p>\n</div>"
     },
     "execution_count": 58,
     "metadata": {},
     "output_type": "execute_result"
    }
   ],
   "source": [
    "client.bars(symbol='600036', frequency=8, offset=100000)\n"
   ],
   "metadata": {
    "collapsed": false,
    "ExecuteTime": {
     "end_time": "2024-03-01T08:06:27.834074800Z",
     "start_time": "2024-03-01T08:06:27.771337100Z"
    }
   },
   "id": "63d0188413606c5b",
   "execution_count": 58
  },
  {
   "cell_type": "code",
   "outputs": [],
   "source": [],
   "metadata": {
    "collapsed": false
   },
   "id": "7723d917ca759cf2"
  }
 ],
 "metadata": {
  "kernelspec": {
   "display_name": "Python 3",
   "language": "python",
   "name": "python3"
  },
  "language_info": {
   "codemirror_mode": {
    "name": "ipython",
    "version": 2
   },
   "file_extension": ".py",
   "mimetype": "text/x-python",
   "name": "python",
   "nbconvert_exporter": "python",
   "pygments_lexer": "ipython2",
   "version": "2.7.6"
  }
 },
 "nbformat": 4,
 "nbformat_minor": 5
}
