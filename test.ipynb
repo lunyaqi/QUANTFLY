{
 "cells": [
  {
   "cell_type": "code",
   "outputs": [],
   "source": [
    "from mootdx.reader import Reader\n",
    "\n",
    "# market: 参数 `std` 为标准市场(就是股票), `ext` 为扩展市场(期货，黄金等)\n",
    "# tdxdir: 是通达信的数据目录, 根据自己的情况修改\n",
    "\n",
    "reader = Reader.factory(market='std', tdxdir='E:/new_tdx')\n",
    "\n",
    "# 读取日线数据\n",
    "reader.daily(symbol='600036')\n",
    "\n",
    "# 读取分钟数据\n",
    "reader.minute(symbol='600036')\n",
    "\n",
    "# 读取时间线数据\n",
    "reader.fzline(symbol='600036')"
   ],
   "metadata": {
    "collapsed": false
   },
   "id": "c1d741a89edf743f"
  },
  {
   "cell_type": "code",
   "outputs": [],
   "source": [
    "reader.daily(symbol='600519')"
   ],
   "metadata": {
    "collapsed": false
   },
   "id": "874d9bd3e2378337"
  },
  {
   "cell_type": "code",
   "outputs": [],
   "source": [
    "reader.fzline(symbol='600036')"
   ],
   "metadata": {
    "collapsed": false
   },
   "id": "a48d2ef3e11a299"
  },
  {
   "cell_type": "code",
   "outputs": [],
   "source": [
    "from mootdx.quotes import Quotes\n",
    "\n",
    "# 标准市场\n",
    "client = Quotes.factory(market='std', multithread=True, heartbeat=True, bestip=True, timeout=15)\n",
    "\n",
    "# k 线数据\n",
    "client.bars(symbol='600036', frequency=9, offset=10)\n",
    "\n",
    "# 指数\n",
    "client.index(symbol='000001', frequency=9)\n",
    "\n",
    "# 分钟\n",
    "client.minute(symbol='000001')\n"
   ],
   "metadata": {
    "collapsed": false
   },
   "id": "9a069c65f45b1a6d"
  },
  {
   "cell_type": "code",
   "outputs": [],
   "source": [
    "# 标准市场\n",
    "client = Quotes.factory(market='std', multithread=True, heartbeat=True, bestip=True, timeout=15)"
   ],
   "metadata": {
    "collapsed": false
   },
   "id": "78c7598d9c8c7e37"
  },
  {
   "cell_type": "code",
   "outputs": [],
   "source": [
    "client.bars(symbol='600036', frequency=9, offset=10)\n"
   ],
   "metadata": {
    "collapsed": false
   },
   "id": "d89b8c362639f303"
  },
  {
   "cell_type": "code",
   "outputs": [],
   "source": [
    "client.bars(symbol='600036', adjust='qfq')\n"
   ],
   "metadata": {
    "collapsed": false
   },
   "id": "6187d7cffa888324"
  },
  {
   "cell_type": "code",
   "outputs": [],
   "source": [
    "client.bars(symbol='600036', adjust='hfq')\n"
   ],
   "metadata": {
    "collapsed": false
   },
   "id": "8b3bbffda67f748a"
  },
  {
   "cell_type": "code",
   "outputs": [],
   "source": [
    "from mootdx import consts\n",
    "\n",
    "client.stock_count(market=consts.MARKET_SH)"
   ],
   "metadata": {
    "collapsed": false
   },
   "id": "5f02cc3f5ad76ec"
  },
  {
   "cell_type": "code",
   "outputs": [],
   "source": [
    "client.stock_count(market=consts.MARKET_SZ)\n"
   ],
   "metadata": {
    "collapsed": false
   },
   "id": "af8480d5905213b1"
  },
  {
   "cell_type": "code",
   "outputs": [],
   "source": [
    "symbol = client.stocks(market=consts.MARKET_SH)"
   ],
   "metadata": {
    "collapsed": false
   },
   "id": "9a29f60bbb6c6fd1"
  },
  {
   "cell_type": "code",
   "outputs": [],
   "source": [
    "symbol"
   ],
   "metadata": {
    "collapsed": false
   },
   "id": "ee89ceabe5630908"
  },
  {
   "cell_type": "code",
   "outputs": [],
   "source": [
    "client.index(frequency=8, market=consts.MARKET_SH, symbol='000001', start=1, offset=2)\n"
   ],
   "metadata": {
    "collapsed": false
   },
   "id": "b3db6b1baff9f248"
  },
  {
   "cell_type": "code",
   "outputs": [],
   "source": [
    "client.minute(symbol='000001')\n"
   ],
   "metadata": {
    "collapsed": false
   },
   "id": "2f5cd9ce5468dbf0"
  },
  {
   "cell_type": "markdown",
   "source": [],
   "metadata": {
    "collapsed": false
   },
   "id": "996e60e1c5c1c9e4"
  },
  {
   "cell_type": "code",
   "outputs": [],
   "source": [
    "client.minutes(symbol='000001', date='20230301')\n"
   ],
   "metadata": {
    "collapsed": false
   },
   "id": "316825ab32990854"
  },
  {
   "cell_type": "markdown",
   "source": [],
   "metadata": {
    "collapsed": false
   },
   "id": "a4b060a881418b5c"
  },
  {
   "cell_type": "code",
   "outputs": [],
   "source": [
    "client.minutes(symbol='000001', date='20171010')\n"
   ],
   "metadata": {
    "collapsed": false
   },
   "id": "78bcbc128527ce95"
  },
  {
   "cell_type": "code",
   "outputs": [],
   "source": [
    "client.transactions(symbol='600519', start=0, offset=5000, date='20240229')\n"
   ],
   "metadata": {
    "collapsed": false
   },
   "id": "fc5e929cdf24361b"
  },
  {
   "cell_type": "code",
   "outputs": [],
   "source": [
    "client = Quotes.factory(market='std')\n",
    "client.k(symbol=\"600300\", begin=\"2010-07-03\", end=\"2024-07-10\")"
   ],
   "metadata": {
    "collapsed": false
   },
   "id": "5ae43f74985d14ab"
  },
  {
   "cell_type": "code",
   "outputs": [],
   "source": [
    "client.k(symbol=\"600300\", begin=\"2017-07-03\", end=\"2017-07-10\", adjust='hfq')\n"
   ],
   "metadata": {
    "collapsed": false
   },
   "id": "ba5ee6ffa76a012e"
  },
  {
   "cell_type": "markdown",
   "source": [
    "## 测试akshare"
   ],
   "metadata": {
    "collapsed": false
   },
   "id": "e4b6259971059586"
  },
  {
   "cell_type": "code",
   "outputs": [],
   "source": [
    "from mootdx.reader import Reader\n",
    "\n",
    "reader = Reader.factory(market='std', tdxdir='E:/new_tdx')\n",
    "\n",
    "# 读取日线数据\n",
    "reader.daily(symbol='600036')\n"
   ],
   "metadata": {
    "collapsed": false
   },
   "id": "dde14171297adef7"
  },
  {
   "cell_type": "code",
   "outputs": [],
   "source": [
    "client.bars(symbol='600036', frequency=8, offset=100000)\n"
   ],
   "metadata": {
    "collapsed": false
   },
   "id": "51f4450e4232bf8"
  },
  {
   "cell_type": "code",
   "outputs": [],
   "source": [],
   "metadata": {
    "collapsed": false
   },
   "id": "a3493208c788b9ba"
  }
 ],
 "metadata": {
  "kernelspec": {
   "display_name": "Python 3",
   "language": "python",
   "name": "python3"
  },
  "language_info": {
   "codemirror_mode": {
    "name": "ipython",
    "version": 2
   },
   "file_extension": ".py",
   "mimetype": "text/x-python",
   "name": "python",
   "nbconvert_exporter": "python",
   "pygments_lexer": "ipython2",
   "version": "2.7.6"
  }
 },
 "nbformat": 4,
 "nbformat_minor": 5
}
